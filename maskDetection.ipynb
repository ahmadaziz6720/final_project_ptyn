{
 "cells": [
  {
   "cell_type": "code",
   "execution_count": 11,
   "metadata": {},
   "outputs": [
    {
     "ename": "ModuleNotFoundError",
     "evalue": "No module named 'pillow'",
     "output_type": "error",
     "traceback": [
      "\u001b[1;31m---------------------------------------------------------------------------\u001b[0m",
      "\u001b[1;31mModuleNotFoundError\u001b[0m                       Traceback (most recent call last)",
      "\u001b[1;32mc:\\Users\\Ahmad Aziz\\Data\\python-nextdev\\final_project\\maskDetection.ipynb Cell 1'\u001b[0m in \u001b[0;36m<cell line: 12>\u001b[1;34m()\u001b[0m\n\u001b[0;32m     <a href='vscode-notebook-cell:/c%3A/Users/Ahmad%20Aziz/Data/python-nextdev/final_project/maskDetection.ipynb#ch0000000?line=9'>10</a>\u001b[0m \u001b[39mfrom\u001b[39;00m \u001b[39msklearn\u001b[39;00m\u001b[39m.\u001b[39;00m\u001b[39mmodel_selection\u001b[39;00m \u001b[39mimport\u001b[39;00m train_test_split\n\u001b[0;32m     <a href='vscode-notebook-cell:/c%3A/Users/Ahmad%20Aziz/Data/python-nextdev/final_project/maskDetection.ipynb#ch0000000?line=10'>11</a>\u001b[0m \u001b[39mfrom\u001b[39;00m \u001b[39msklearn\u001b[39;00m\u001b[39m.\u001b[39;00m\u001b[39mmetrics\u001b[39;00m \u001b[39mimport\u001b[39;00m classification_report\n\u001b[1;32m---> <a href='vscode-notebook-cell:/c%3A/Users/Ahmad%20Aziz/Data/python-nextdev/final_project/maskDetection.ipynb#ch0000000?line=11'>12</a>\u001b[0m \u001b[39mfrom\u001b[39;00m \u001b[39mpillow\u001b[39;00m \u001b[39mimport\u001b[39;00m Image\n\u001b[0;32m     <a href='vscode-notebook-cell:/c%3A/Users/Ahmad%20Aziz/Data/python-nextdev/final_project/maskDetection.ipynb#ch0000000?line=12'>13</a>\u001b[0m \u001b[39mimport\u001b[39;00m \u001b[39mnumpy\u001b[39;00m \u001b[39mas\u001b[39;00m \u001b[39mnp\u001b[39;00m\n\u001b[0;32m     <a href='vscode-notebook-cell:/c%3A/Users/Ahmad%20Aziz/Data/python-nextdev/final_project/maskDetection.ipynb#ch0000000?line=13'>14</a>\u001b[0m \u001b[39mimport\u001b[39;00m \u001b[39mos\u001b[39;00m\n",
      "\u001b[1;31mModuleNotFoundError\u001b[0m: No module named 'pillow'"
     ]
    }
   ],
   "source": [
    "from tensorflow.keras.preprocessing.image import ImageDataGenerator\n",
    "from tensorflow.keras.applications import MobileNetV2\n",
    "from tensorflow.keras.layers import AveragePooling2D, Dropout, Flatten, Input, Dense\n",
    "from tensorflow.keras.models import Model\n",
    "from tensorflow.keras.optimizers import Adam\n",
    "from tensorflow.keras.applications.mobilenet_v2 import preprocess_input\n",
    "from tensorflow.keras.preprocessing.image import img_to_array, load_img\n",
    "from tensorflow.keras.utils import to_categorical\n",
    "from sklearn.preprocessing import LabelBinarizer\n",
    "from sklearn.model_selection import train_test_split\n",
    "from sklearn.metrics import classification_report\n",
    "from PIL import Image\n",
    "import numpy as np\n",
    "import os"
   ]
  },
  {
   "cell_type": "code",
   "execution_count": 3,
   "metadata": {},
   "outputs": [],
   "source": [
    "LEARNINGRATE = 1e-4\n",
    "EPOCHS = 20\n",
    "BATCHSIZE = 32\n",
    "\n",
    "dir = r\"datasets\"\n",
    "categories = [\"mask\", \"noMask\"]"
   ]
  },
  {
   "cell_type": "code",
   "execution_count": 9,
   "metadata": {},
   "outputs": [
    {
     "name": "stdout",
     "output_type": "stream",
     "text": [
      "[Loading images...]\n"
     ]
    },
    {
     "ename": "ImportError",
     "evalue": "Could not import PIL.Image. The use of `load_img` requires PIL.",
     "output_type": "error",
     "traceback": [
      "\u001b[1;31m---------------------------------------------------------------------------\u001b[0m",
      "\u001b[1;31mImportError\u001b[0m                               Traceback (most recent call last)",
      "\u001b[1;32mc:\\Users\\Ahmad Aziz\\Data\\python-nextdev\\final_project\\maskDetection.ipynb Cell 3'\u001b[0m in \u001b[0;36m<cell line: 4>\u001b[1;34m()\u001b[0m\n\u001b[0;32m      <a href='vscode-notebook-cell:/c%3A/Users/Ahmad%20Aziz/Data/python-nextdev/final_project/maskDetection.ipynb#ch0000002?line=5'>6</a>\u001b[0m \u001b[39mfor\u001b[39;00m img \u001b[39min\u001b[39;00m os\u001b[39m.\u001b[39mlistdir(path):\n\u001b[0;32m      <a href='vscode-notebook-cell:/c%3A/Users/Ahmad%20Aziz/Data/python-nextdev/final_project/maskDetection.ipynb#ch0000002?line=6'>7</a>\u001b[0m \timg_path \u001b[39m=\u001b[39m os\u001b[39m.\u001b[39mpath\u001b[39m.\u001b[39mjoin(path, img)\n\u001b[1;32m----> <a href='vscode-notebook-cell:/c%3A/Users/Ahmad%20Aziz/Data/python-nextdev/final_project/maskDetection.ipynb#ch0000002?line=7'>8</a>\u001b[0m \timage \u001b[39m=\u001b[39m load_img(img_path, target_size\u001b[39m=\u001b[39;49m(\u001b[39m224\u001b[39;49m, \u001b[39m224\u001b[39;49m))\n\u001b[0;32m      <a href='vscode-notebook-cell:/c%3A/Users/Ahmad%20Aziz/Data/python-nextdev/final_project/maskDetection.ipynb#ch0000002?line=8'>9</a>\u001b[0m \timage \u001b[39m=\u001b[39m img_to_array(image)\n\u001b[0;32m     <a href='vscode-notebook-cell:/c%3A/Users/Ahmad%20Aziz/Data/python-nextdev/final_project/maskDetection.ipynb#ch0000002?line=9'>10</a>\u001b[0m \timage \u001b[39m=\u001b[39m preprocess_input(image)\n",
      "File \u001b[1;32m~\\AppData\\Local\\Programs\\Python\\Python310\\lib\\site-packages\\keras\\preprocessing\\image.py:313\u001b[0m, in \u001b[0;36mload_img\u001b[1;34m(path, grayscale, color_mode, target_size, interpolation)\u001b[0m\n\u001b[0;32m    <a href='file:///c%3A/Users/Ahmad%20Aziz/AppData/Local/Programs/Python/Python310/lib/site-packages/keras/preprocessing/image.py?line=276'>277</a>\u001b[0m \u001b[39m@keras_export\u001b[39m(\u001b[39m'\u001b[39m\u001b[39mkeras.utils.load_img\u001b[39m\u001b[39m'\u001b[39m,\n\u001b[0;32m    <a href='file:///c%3A/Users/Ahmad%20Aziz/AppData/Local/Programs/Python/Python310/lib/site-packages/keras/preprocessing/image.py?line=277'>278</a>\u001b[0m               \u001b[39m'\u001b[39m\u001b[39mkeras.preprocessing.image.load_img\u001b[39m\u001b[39m'\u001b[39m)\n\u001b[0;32m    <a href='file:///c%3A/Users/Ahmad%20Aziz/AppData/Local/Programs/Python/Python310/lib/site-packages/keras/preprocessing/image.py?line=278'>279</a>\u001b[0m \u001b[39mdef\u001b[39;00m \u001b[39mload_img\u001b[39m(path, grayscale\u001b[39m=\u001b[39m\u001b[39mFalse\u001b[39;00m, color_mode\u001b[39m=\u001b[39m\u001b[39m'\u001b[39m\u001b[39mrgb\u001b[39m\u001b[39m'\u001b[39m, target_size\u001b[39m=\u001b[39m\u001b[39mNone\u001b[39;00m,\n\u001b[0;32m    <a href='file:///c%3A/Users/Ahmad%20Aziz/AppData/Local/Programs/Python/Python310/lib/site-packages/keras/preprocessing/image.py?line=279'>280</a>\u001b[0m              interpolation\u001b[39m=\u001b[39m\u001b[39m'\u001b[39m\u001b[39mnearest\u001b[39m\u001b[39m'\u001b[39m):\n\u001b[0;32m    <a href='file:///c%3A/Users/Ahmad%20Aziz/AppData/Local/Programs/Python/Python310/lib/site-packages/keras/preprocessing/image.py?line=280'>281</a>\u001b[0m   \u001b[39m\"\"\"Loads an image into PIL format.\u001b[39;00m\n\u001b[0;32m    <a href='file:///c%3A/Users/Ahmad%20Aziz/AppData/Local/Programs/Python/Python310/lib/site-packages/keras/preprocessing/image.py?line=281'>282</a>\u001b[0m \n\u001b[0;32m    <a href='file:///c%3A/Users/Ahmad%20Aziz/AppData/Local/Programs/Python/Python310/lib/site-packages/keras/preprocessing/image.py?line=282'>283</a>\u001b[0m \u001b[39m  Usage:\u001b[39;00m\n\u001b[1;32m   (...)\u001b[0m\n\u001b[0;32m    <a href='file:///c%3A/Users/Ahmad%20Aziz/AppData/Local/Programs/Python/Python310/lib/site-packages/keras/preprocessing/image.py?line=310'>311</a>\u001b[0m \u001b[39m      ValueError: if interpolation method is not supported.\u001b[39;00m\n\u001b[0;32m    <a href='file:///c%3A/Users/Ahmad%20Aziz/AppData/Local/Programs/Python/Python310/lib/site-packages/keras/preprocessing/image.py?line=311'>312</a>\u001b[0m \u001b[39m  \"\"\"\u001b[39;00m\n\u001b[1;32m--> <a href='file:///c%3A/Users/Ahmad%20Aziz/AppData/Local/Programs/Python/Python310/lib/site-packages/keras/preprocessing/image.py?line=312'>313</a>\u001b[0m   \u001b[39mreturn\u001b[39;00m image\u001b[39m.\u001b[39;49mload_img(path, grayscale\u001b[39m=\u001b[39;49mgrayscale, color_mode\u001b[39m=\u001b[39;49mcolor_mode,\n\u001b[0;32m    <a href='file:///c%3A/Users/Ahmad%20Aziz/AppData/Local/Programs/Python/Python310/lib/site-packages/keras/preprocessing/image.py?line=313'>314</a>\u001b[0m                         target_size\u001b[39m=\u001b[39;49mtarget_size, interpolation\u001b[39m=\u001b[39;49minterpolation)\n",
      "File \u001b[1;32m~\\AppData\\Local\\Programs\\Python\\Python310\\lib\\site-packages\\keras_preprocessing\\image\\utils.py:111\u001b[0m, in \u001b[0;36mload_img\u001b[1;34m(path, grayscale, color_mode, target_size, interpolation)\u001b[0m\n\u001b[0;32m    <a href='file:///c%3A/Users/Ahmad%20Aziz/AppData/Local/Programs/Python/Python310/lib/site-packages/keras_preprocessing/image/utils.py?line=108'>109</a>\u001b[0m     color_mode \u001b[39m=\u001b[39m \u001b[39m'\u001b[39m\u001b[39mgrayscale\u001b[39m\u001b[39m'\u001b[39m\n\u001b[0;32m    <a href='file:///c%3A/Users/Ahmad%20Aziz/AppData/Local/Programs/Python/Python310/lib/site-packages/keras_preprocessing/image/utils.py?line=109'>110</a>\u001b[0m \u001b[39mif\u001b[39;00m pil_image \u001b[39mis\u001b[39;00m \u001b[39mNone\u001b[39;00m:\n\u001b[1;32m--> <a href='file:///c%3A/Users/Ahmad%20Aziz/AppData/Local/Programs/Python/Python310/lib/site-packages/keras_preprocessing/image/utils.py?line=110'>111</a>\u001b[0m     \u001b[39mraise\u001b[39;00m \u001b[39mImportError\u001b[39;00m(\u001b[39m'\u001b[39m\u001b[39mCould not import PIL.Image. \u001b[39m\u001b[39m'\u001b[39m\n\u001b[0;32m    <a href='file:///c%3A/Users/Ahmad%20Aziz/AppData/Local/Programs/Python/Python310/lib/site-packages/keras_preprocessing/image/utils.py?line=111'>112</a>\u001b[0m                       \u001b[39m'\u001b[39m\u001b[39mThe use of `load_img` requires PIL.\u001b[39m\u001b[39m'\u001b[39m)\n\u001b[0;32m    <a href='file:///c%3A/Users/Ahmad%20Aziz/AppData/Local/Programs/Python/Python310/lib/site-packages/keras_preprocessing/image/utils.py?line=112'>113</a>\u001b[0m \u001b[39mwith\u001b[39;00m \u001b[39mopen\u001b[39m(path, \u001b[39m'\u001b[39m\u001b[39mrb\u001b[39m\u001b[39m'\u001b[39m) \u001b[39mas\u001b[39;00m f:\n\u001b[0;32m    <a href='file:///c%3A/Users/Ahmad%20Aziz/AppData/Local/Programs/Python/Python310/lib/site-packages/keras_preprocessing/image/utils.py?line=113'>114</a>\u001b[0m     img \u001b[39m=\u001b[39m pil_image\u001b[39m.\u001b[39mopen(io\u001b[39m.\u001b[39mBytesIO(f\u001b[39m.\u001b[39mread()))\n",
      "\u001b[1;31mImportError\u001b[0m: Could not import PIL.Image. The use of `load_img` requires PIL."
     ]
    }
   ],
   "source": [
    "print(\"[Loading images...]\")\n",
    "data = []\n",
    "labels = []\n",
    "for category in categories:\n",
    "\tpath = os.path.join(dir, category)\n",
    "\tfor img in os.listdir(path):\n",
    "\t\timg_path = os.path.join(path, img)\n",
    "\t\timage = load_img(img_path, target_size=(224, 224))\n",
    "\t\timage = img_to_array(image)\n",
    "\t\timage = preprocess_input(image)\n",
    "\n",
    "\t\tdata.append(image)\n",
    "\t\tlabels.append(category)\n",
    "\n",
    "lb = LabelBinarizer()\n",
    "labels = lb.fit_transform(labels)\n",
    "labels = to_categorical(labels)\n",
    "\n",
    "data = np.array(data, dtype=\"float32\")\n",
    "labels = np.array(labels)"
   ]
  },
  {
   "cell_type": "code",
   "execution_count": 2,
   "metadata": {},
   "outputs": [
    {
     "ename": "NameError",
     "evalue": "name 'train_test_split' is not defined",
     "output_type": "error",
     "traceback": [
      "\u001b[1;31m---------------------------------------------------------------------------\u001b[0m",
      "\u001b[1;31mNameError\u001b[0m                                 Traceback (most recent call last)",
      "\u001b[1;32mc:\\Users\\Ahmad Aziz\\Data\\python-nextdev\\final_project\\maskDetection.ipynb Cell 4'\u001b[0m in \u001b[0;36m<cell line: 2>\u001b[1;34m()\u001b[0m\n\u001b[0;32m      <a href='vscode-notebook-cell:/c%3A/Users/Ahmad%20Aziz/Data/python-nextdev/final_project/maskDetection.ipynb#ch0000003?line=0'>1</a>\u001b[0m \u001b[39m# split data for train and test\u001b[39;00m\n\u001b[1;32m----> <a href='vscode-notebook-cell:/c%3A/Users/Ahmad%20Aziz/Data/python-nextdev/final_project/maskDetection.ipynb#ch0000003?line=1'>2</a>\u001b[0m trainX, testX, trainY, testY \u001b[39m=\u001b[39m train_test_split(data, labels, test_size\u001b[39m=\u001b[39m\u001b[39m0.20\u001b[39m, stratify\u001b[39m=\u001b[39mlabels, random_state\u001b[39m=\u001b[39m\u001b[39m40\u001b[39m)\n",
      "\u001b[1;31mNameError\u001b[0m: name 'train_test_split' is not defined"
     ]
    }
   ],
   "source": [
    "# split data for train and test\n",
    "trainX, testX, trainY, testY = train_test_split(data, labels, test_size=0.20, stratify=labels, random_state=40)\n"
   ]
  },
  {
   "cell_type": "code",
   "execution_count": 3,
   "metadata": {},
   "outputs": [
    {
     "name": "stdout",
     "output_type": "stream",
     "text": [
      "WARNING:tensorflow:`input_shape` is undefined or non-square, or `rows` is not in [96, 128, 160, 192, 224]. Weights for input shape (224, 224) will be loaded as the default.\n",
      "Downloading data from https://storage.googleapis.com/tensorflow/keras-applications/mobilenet_v2/mobilenet_v2_weights_tf_dim_ordering_tf_kernels_1.0_224_no_top.h5\n",
      "9412608/9406464 [==============================] - 5s 1us/step\n",
      "9420800/9406464 [==============================] - 5s 1us/step\n"
     ]
    }
   ],
   "source": [
    "# augmentation\n",
    "aug = ImageDataGenerator(\n",
    "\trotation_range=20,\n",
    "\tzoom_range=0.15,\n",
    "\theight_shift_range=0.2,\n",
    "\twidth_shift_range=0.2,\n",
    "\tshear_range=0.15,\n",
    "\thorizontal_flip=True,\n",
    "\tfill_mode=\"nearest\")\n",
    "\n",
    "baseModel = MobileNetV2(weights=\"imagenet\", include_top=False, input_tensor=Input(shape=(224, 224, 3)))"
   ]
  },
  {
   "cell_type": "code",
   "execution_count": 4,
   "metadata": {},
   "outputs": [],
   "source": [
    "# construct the head model\n",
    "headModel = baseModel.output\n",
    "headModel = AveragePooling2D(pool_size=(7, 7))(headModel)\n",
    "headModel = Flatten(name=\"flatten\")(headModel)\n",
    "headModel = Dense(128, activation=\"relu\")(headModel)\n",
    "headModel = Dropout(0.5)(headModel)\n",
    "headModel = Dense(2, activation=\"softmax\")(headModel)"
   ]
  },
  {
   "cell_type": "code",
   "execution_count": 5,
   "metadata": {},
   "outputs": [],
   "source": [
    "# model to train\n",
    "model = Model(inputs=baseModel.input, outputs=headModel)\n",
    "\n",
    "for layer in baseModel.layers:\n",
    "\tlayer.trainable = False"
   ]
  },
  {
   "cell_type": "code",
   "execution_count": 6,
   "metadata": {},
   "outputs": [
    {
     "name": "stdout",
     "output_type": "stream",
     "text": [
      "[Compiling model...]\n"
     ]
    },
    {
     "ename": "NameError",
     "evalue": "name 'LEARNINGRATE' is not defined",
     "output_type": "error",
     "traceback": [
      "\u001b[1;31m---------------------------------------------------------------------------\u001b[0m",
      "\u001b[1;31mNameError\u001b[0m                                 Traceback (most recent call last)",
      "\u001b[1;32mc:\\Users\\Ahmad Aziz\\Data\\python-nextdev\\final_project\\maskDetection.ipynb Cell 8'\u001b[0m in \u001b[0;36m<cell line: 3>\u001b[1;34m()\u001b[0m\n\u001b[0;32m      <a href='vscode-notebook-cell:/c%3A/Users/Ahmad%20Aziz/Data/python-nextdev/final_project/maskDetection.ipynb#ch0000007?line=0'>1</a>\u001b[0m \u001b[39m# compile model\u001b[39;00m\n\u001b[0;32m      <a href='vscode-notebook-cell:/c%3A/Users/Ahmad%20Aziz/Data/python-nextdev/final_project/maskDetection.ipynb#ch0000007?line=1'>2</a>\u001b[0m \u001b[39mprint\u001b[39m(\u001b[39m\"\u001b[39m\u001b[39m[Compiling model...]\u001b[39m\u001b[39m\"\u001b[39m)\n\u001b[1;32m----> <a href='vscode-notebook-cell:/c%3A/Users/Ahmad%20Aziz/Data/python-nextdev/final_project/maskDetection.ipynb#ch0000007?line=2'>3</a>\u001b[0m opt \u001b[39m=\u001b[39m Adam(learning_rate\u001b[39m=\u001b[39mLEARNINGRATE, decay\u001b[39m=\u001b[39mLEARNINGRATE \u001b[39m/\u001b[39m EPOCHS)\n\u001b[0;32m      <a href='vscode-notebook-cell:/c%3A/Users/Ahmad%20Aziz/Data/python-nextdev/final_project/maskDetection.ipynb#ch0000007?line=3'>4</a>\u001b[0m model\u001b[39m.\u001b[39mcompile(loss\u001b[39m=\u001b[39m\u001b[39m\"\u001b[39m\u001b[39mbinary_crossentropy\u001b[39m\u001b[39m\"\u001b[39m, optimizer\u001b[39m=\u001b[39mopt, metrics\u001b[39m=\u001b[39m[\u001b[39m\"\u001b[39m\u001b[39maccuracy\u001b[39m\u001b[39m\"\u001b[39m])\n",
      "\u001b[1;31mNameError\u001b[0m: name 'LEARNINGRATE' is not defined"
     ]
    }
   ],
   "source": [
    "# compile model\n",
    "print(\"[Compiling model...]\")\n",
    "opt = Adam(learning_rate=LEARNINGRATE, decay=LEARNINGRATE / EPOCHS)\n",
    "model.compile(loss=\"binary_crossentropy\", optimizer=opt, metrics=[\"accuracy\"])"
   ]
  },
  {
   "cell_type": "code",
   "execution_count": 7,
   "metadata": {},
   "outputs": [
    {
     "ename": "NameError",
     "evalue": "name 'trainX' is not defined",
     "output_type": "error",
     "traceback": [
      "\u001b[1;31m---------------------------------------------------------------------------\u001b[0m",
      "\u001b[1;31mNameError\u001b[0m                                 Traceback (most recent call last)",
      "\u001b[1;32mc:\\Users\\Ahmad Aziz\\Data\\python-nextdev\\final_project\\maskDetection.ipynb Cell 9'\u001b[0m in \u001b[0;36m<cell line: 2>\u001b[1;34m()\u001b[0m\n\u001b[0;32m      <a href='vscode-notebook-cell:/c%3A/Users/Ahmad%20Aziz/Data/python-nextdev/final_project/maskDetection.ipynb#ch0000008?line=0'>1</a>\u001b[0m \u001b[39m# train the head\u001b[39;00m\n\u001b[0;32m      <a href='vscode-notebook-cell:/c%3A/Users/Ahmad%20Aziz/Data/python-nextdev/final_project/maskDetection.ipynb#ch0000008?line=1'>2</a>\u001b[0m H \u001b[39m=\u001b[39m model\u001b[39m.\u001b[39mfit(\n\u001b[1;32m----> <a href='vscode-notebook-cell:/c%3A/Users/Ahmad%20Aziz/Data/python-nextdev/final_project/maskDetection.ipynb#ch0000008?line=2'>3</a>\u001b[0m \taug\u001b[39m.\u001b[39mflow(trainX, trainY, batch_size\u001b[39m=\u001b[39mBATCHSIZE),\n\u001b[0;32m      <a href='vscode-notebook-cell:/c%3A/Users/Ahmad%20Aziz/Data/python-nextdev/final_project/maskDetection.ipynb#ch0000008?line=3'>4</a>\u001b[0m \tsteps_per_epoch\u001b[39m=\u001b[39m\u001b[39mlen\u001b[39m(trainX) \u001b[39m/\u001b[39m\u001b[39m/\u001b[39m BATCHSIZE,\n\u001b[0;32m      <a href='vscode-notebook-cell:/c%3A/Users/Ahmad%20Aziz/Data/python-nextdev/final_project/maskDetection.ipynb#ch0000008?line=4'>5</a>\u001b[0m \tvalidation_data\u001b[39m=\u001b[39m(testX, testY),\n\u001b[0;32m      <a href='vscode-notebook-cell:/c%3A/Users/Ahmad%20Aziz/Data/python-nextdev/final_project/maskDetection.ipynb#ch0000008?line=5'>6</a>\u001b[0m \tvalidation_steps\u001b[39m=\u001b[39m\u001b[39mlen\u001b[39m(testX) \u001b[39m/\u001b[39m\u001b[39m/\u001b[39m BATCHSIZE,\n\u001b[0;32m      <a href='vscode-notebook-cell:/c%3A/Users/Ahmad%20Aziz/Data/python-nextdev/final_project/maskDetection.ipynb#ch0000008?line=6'>7</a>\u001b[0m \tepochs\u001b[39m=\u001b[39mEPOCHS)\n",
      "\u001b[1;31mNameError\u001b[0m: name 'trainX' is not defined"
     ]
    }
   ],
   "source": [
    "# train the head\n",
    "H = model.fit(\n",
    "\taug.flow(trainX, trainY, batch_size=BATCHSIZE),\n",
    "\tsteps_per_epoch=len(trainX) // BATCHSIZE,\n",
    "\tvalidation_data=(testX, testY),\n",
    "\tvalidation_steps=len(testX) // BATCHSIZE,\n",
    "\tepochs=EPOCHS)"
   ]
  },
  {
   "cell_type": "code",
   "execution_count": 8,
   "metadata": {},
   "outputs": [
    {
     "name": "stdout",
     "output_type": "stream",
     "text": [
      "[Predicting...\n"
     ]
    },
    {
     "ename": "NameError",
     "evalue": "name 'testX' is not defined",
     "output_type": "error",
     "traceback": [
      "\u001b[1;31m---------------------------------------------------------------------------\u001b[0m",
      "\u001b[1;31mNameError\u001b[0m                                 Traceback (most recent call last)",
      "\u001b[1;32mc:\\Users\\Ahmad Aziz\\Data\\python-nextdev\\final_project\\maskDetection.ipynb Cell 10'\u001b[0m in \u001b[0;36m<cell line: 3>\u001b[1;34m()\u001b[0m\n\u001b[0;32m      <a href='vscode-notebook-cell:/c%3A/Users/Ahmad%20Aziz/Data/python-nextdev/final_project/maskDetection.ipynb#ch0000009?line=0'>1</a>\u001b[0m \u001b[39m# make predictions on the testing\u001b[39;00m\n\u001b[0;32m      <a href='vscode-notebook-cell:/c%3A/Users/Ahmad%20Aziz/Data/python-nextdev/final_project/maskDetection.ipynb#ch0000009?line=1'>2</a>\u001b[0m \u001b[39mprint\u001b[39m(\u001b[39m\"\u001b[39m\u001b[39m[Predicting...\u001b[39m\u001b[39m\"\u001b[39m)\n\u001b[1;32m----> <a href='vscode-notebook-cell:/c%3A/Users/Ahmad%20Aziz/Data/python-nextdev/final_project/maskDetection.ipynb#ch0000009?line=2'>3</a>\u001b[0m predIdx \u001b[39m=\u001b[39m model\u001b[39m.\u001b[39mpredict(testX, batch_size\u001b[39m=\u001b[39mBATCHSIZE)\n\u001b[0;32m      <a href='vscode-notebook-cell:/c%3A/Users/Ahmad%20Aziz/Data/python-nextdev/final_project/maskDetection.ipynb#ch0000009?line=3'>4</a>\u001b[0m predIdx \u001b[39m=\u001b[39m np\u001b[39m.\u001b[39margmax(predIdx, axis\u001b[39m=\u001b[39m\u001b[39m1\u001b[39m)\n",
      "\u001b[1;31mNameError\u001b[0m: name 'testX' is not defined"
     ]
    }
   ],
   "source": [
    "# make predictions on the testing\n",
    "print(\"[Predicting...\")\n",
    "predIdx = model.predict(testX, batch_size=BATCHSIZE)\n",
    "predIdx = np.argmax(predIdx, axis=1)\n",
    "\n",
    "print(classification_report(testY.argmax(axis=1), predIdx, target_names=lb.classes_))"
   ]
  },
  {
   "cell_type": "code",
   "execution_count": null,
   "metadata": {},
   "outputs": [],
   "source": [
    "# save trained model\n",
    "print(\"[Saving mask detector model...]\")\n",
    "model.save(\"maskModel/trainedDetection.model\", save_format=\"h5\")"
   ]
  }
 ],
 "metadata": {
  "interpreter": {
   "hash": "ead8c2e1cfd2cd0815b1164870e6eed5ce9a96d6273275cb71190e504ef4afad"
  },
  "kernelspec": {
   "display_name": "Python 3.10.2 64-bit",
   "language": "python",
   "name": "python3"
  },
  "language_info": {
   "codemirror_mode": {
    "name": "ipython",
    "version": 3
   },
   "file_extension": ".py",
   "mimetype": "text/x-python",
   "name": "python",
   "nbconvert_exporter": "python",
   "pygments_lexer": "ipython3",
   "version": "3.10.2"
  },
  "orig_nbformat": 4
 },
 "nbformat": 4,
 "nbformat_minor": 2
}
